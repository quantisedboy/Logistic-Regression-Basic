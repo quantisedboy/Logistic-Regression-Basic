{
 "cells": [
  {
   "cell_type": "code",
   "execution_count": 172,
   "metadata": {},
   "outputs": [],
   "source": [
    "import numpy as np\n",
    "import pandas as pd\n",
    "import matplotlib.pyplot as plt\n",
    "from sklearn.linear_model import LogisticRegression\n",
    "from sklearn.metrics import accuracy_score,confusion_matrix\n",
    "from sklearn.model_selection import train_test_split"
   ]
  },
  {
   "cell_type": "code",
   "execution_count": 173,
   "metadata": {},
   "outputs": [
    {
     "data": {
      "text/html": [
       "<div>\n",
       "<style scoped>\n",
       "    .dataframe tbody tr th:only-of-type {\n",
       "        vertical-align: middle;\n",
       "    }\n",
       "\n",
       "    .dataframe tbody tr th {\n",
       "        vertical-align: top;\n",
       "    }\n",
       "\n",
       "    .dataframe thead th {\n",
       "        text-align: right;\n",
       "    }\n",
       "</style>\n",
       "<table border=\"1\" class=\"dataframe\">\n",
       "  <thead>\n",
       "    <tr style=\"text-align: right;\">\n",
       "      <th></th>\n",
       "      <th>age</th>\n",
       "      <th>married_status</th>\n",
       "    </tr>\n",
       "  </thead>\n",
       "  <tbody>\n",
       "    <tr>\n",
       "      <th>0</th>\n",
       "      <td>23</td>\n",
       "      <td>0</td>\n",
       "    </tr>\n",
       "    <tr>\n",
       "      <th>1</th>\n",
       "      <td>21</td>\n",
       "      <td>1</td>\n",
       "    </tr>\n",
       "    <tr>\n",
       "      <th>2</th>\n",
       "      <td>56</td>\n",
       "      <td>1</td>\n",
       "    </tr>\n",
       "    <tr>\n",
       "      <th>3</th>\n",
       "      <td>34</td>\n",
       "      <td>0</td>\n",
       "    </tr>\n",
       "    <tr>\n",
       "      <th>4</th>\n",
       "      <td>45</td>\n",
       "      <td>1</td>\n",
       "    </tr>\n",
       "  </tbody>\n",
       "</table>\n",
       "</div>"
      ],
      "text/plain": [
       "   age  married_status\n",
       "0   23               0\n",
       "1   21               1\n",
       "2   56               1\n",
       "3   34               0\n",
       "4   45               1"
      ]
     },
     "execution_count": 173,
     "metadata": {},
     "output_type": "execute_result"
    }
   ],
   "source": [
    "df=pd.read_csv('data.csv')\n",
    "df.head()"
   ]
  },
  {
   "cell_type": "code",
   "execution_count": 174,
   "metadata": {},
   "outputs": [
    {
     "data": {
      "image/png": "[encoded data removed]",
      "text/plain": [
       "<Figure size 432x288 with 1 Axes>"
      ]
     },
     "metadata": {
      "needs_background": "light"
     },
     "output_type": "display_data"
    }
   ],
   "source": [
    "plt.scatter(df['age'],df['married_status'],color='black')\n",
    "plt.show()"
   ]
  },
  {
   "cell_type": "code",
   "execution_count": 182,
   "metadata": {},
   "outputs": [],
   "source": [
    "class logistic_regression:\n",
    "    def __init__(self,eta=0.01,b_0=0):\n",
    "        self.N=0\n",
    "        self.eta=eta\n",
    "        self.bias_val=b_0\n",
    "        self.b=0\n",
    "     \n",
    "    #Sigmoid Function\n",
    "    def sigmoid(self,z):\n",
    "        value=1/(1+(np.exp(-z)))\n",
    "        return value\n",
    "    \n",
    "    # basic Gradient part [sigmoid(z)-y]x at b\n",
    "    def gradient_at_b(self,x,y,b,bias):\n",
    "        for_coef=0\n",
    "        for i in range(self.N):\n",
    "            z=bias+(b*x[i])\n",
    "            for_coef=for_coef+((self.sigmoid(z)-y[i])*x[i])\n",
    "        return for_coef\n",
    "    \n",
    "    #basic gradient part for bias\n",
    "    def gradient_at_bias(self,x,y,b,bias):\n",
    "        for_bias=0\n",
    "        for i in range(self.N):\n",
    "            z=bias+(b*x[i])\n",
    "            for_bias=for_bias+((self.sigmoid(z)-y[i]))\n",
    "        return for_bias\n",
    "    \n",
    "    #Updating the gradients\n",
    "    def grad_upgrade(self,x,y,b_old,bias_old):\n",
    "        b_new=b_old-(self.gradient_at_b(x,y,b_old,bias_old))\n",
    "        bias_new=bias_old-(self.gradient_at_bias(x,y,b_old,bias_old))\n",
    "        return b_new,bias_new\n",
    "    \n",
    "    #Gradient Descent i.e fitting the model\n",
    "    def fit(self,x,y,epoch=100):\n",
    "        self.N=len(x)\n",
    "        b=self.b\n",
    "        bias=self.bias_val\n",
    "        for i in range(epoch):\n",
    "            b_new,bias_new=self.grad_upgrade(x,y,b,bias)\n",
    "            b=b_new\n",
    "            bias=bias_new\n",
    "        self.b=b\n",
    "        self.bias_val=bias\n",
    "        \n",
    "    #Calculate class\n",
    "    def predict(self,val,threshold=0.5):\n",
    "        length=len(val)\n",
    "        result=[]\n",
    "        for i in range(length):\n",
    "            z=self.bias_val+(val[i]*self.b)\n",
    "            sig_z=self.sigmoid(z)\n",
    "            if (sig_z>=threshold):\n",
    "                result.append(1)\n",
    "            else:\n",
    "                result.append(0)\n",
    "        return result\n",
    "    \n",
    "    #repr\n",
    "    def __repr__(self):\n",
    "        return ( 'LogisticRegression(eta=0.01,b_0=0)')"
   ]
  },
  {
   "cell_type": "code",
   "execution_count": 183,
   "metadata": {},
   "outputs": [],
   "source": [
    "x_train,x_test,y_train,y_test=train_test_split(df[['age']],df['married_status'],test_size=0.2)\n",
    "X_train,X_test,Y_train,Y_test=train_test_split(df['age'],df['married_status'],test_size=0.2)"
   ]
  },
  {
   "cell_type": "code",
   "execution_count": 184,
   "metadata": {},
   "outputs": [],
   "source": [
    "model=logistic_regression()\n",
    "trainX=X_train.tolist()\n",
    "trainY=Y_train.tolist()\n",
    "model.fit(trainX,trainY)"
   ]
  },
  {
   "cell_type": "code",
   "execution_count": 185,
   "metadata": {},
   "outputs": [
    {
     "data": {
      "text/plain": [
       "LogisticRegression(C=1.0, class_weight=None, dual=False, fit_intercept=True,\n",
       "                   intercept_scaling=1, l1_ratio=None, max_iter=100,\n",
       "                   multi_class='warn', n_jobs=None, penalty='l2',\n",
       "                   random_state=None, solver='saga', tol=0.0001, verbose=0,\n",
       "                   warm_start=False)"
      ]
     },
     "execution_count": 185,
     "metadata": {},
     "output_type": "execute_result"
    }
   ],
   "source": [
    "#x_train=x_train.reshape(-1,1)\n",
    "#y_train=y_train.reshape(-1,1)\n",
    "model_sk=LogisticRegression(solver='saga')\n",
    "model_sk.fit(x_train,y_train)"
   ]
  },
  {
   "cell_type": "code",
   "execution_count": 186,
   "metadata": {},
   "outputs": [
    {
     "name": "stdout",
     "output_type": "stream",
     "text": [
      "Prediction from my model [1]\n",
      "\n",
      "Prediction from sklearn model [1]\n"
     ]
    }
   ],
   "source": [
    "print('Prediction from my model',model.predict([29]))\n",
    "print('\\nPrediction from sklearn model',model_sk.predict([[29]]))"
   ]
  },
  {
   "cell_type": "code",
   "execution_count": 187,
   "metadata": {},
   "outputs": [
    {
     "name": "stdout",
     "output_type": "stream",
     "text": [
      "40.0 %\n",
      "\n",
      " [[0 6]\n",
      " [0 4]]\n"
     ]
    },
    {
     "data": {
      "text/plain": [
       "numpy.ndarray"
      ]
     },
     "execution_count": 187,
     "metadata": {},
     "output_type": "execute_result"
    }
   ],
   "source": [
    "# Accuracy Check of sklearn's model\n",
    "y_predict=model_sk.predict(x_test)\n",
    "print(accuracy_score(y_test,y_predict)*100,'%')\n",
    "h=confusion_matrix(y_test,y_predict)\n",
    "print('\\n',h)\n",
    "type(h)"
   ]
  },
  {
   "cell_type": "code",
   "execution_count": 188,
   "metadata": {},
   "outputs": [
    {
     "name": "stdout",
     "output_type": "stream",
     "text": [
      "50.0 %\n",
      "\n",
      "[0, 'P', 'N']\n",
      "['T', 5, 0]\n",
      "['F', 5, 0]\n"
     ]
    }
   ],
   "source": [
    "# Accuracy Check of my model\n",
    "predict=model.predict(X_test.tolist())\n",
    "tp,fp,tn,fn=0,0,0,0\n",
    "Y_test=Y_test.tolist()\n",
    "for i in range(len(Y_test)):\n",
    "    if(predict[i]==1 and Y_test[i]==1):\n",
    "        tp+=1\n",
    "    elif(predict[i]==1 and Y_test[i]==0):\n",
    "        fp+=1\n",
    "    elif(predict[i]==0 and Y_test[i]==0):\n",
    "        tn+=1\n",
    "    elif(predict[i]==0 and Y_test[i]==1):\n",
    "        fn+=1\n",
    "print(((tp+tn)/(tp+tn+fp+fn))*100,'%\\n')\n",
    "confusion_mat=[[0,'P','N'],['T',tp,tn],['F',fp,fn]]\n",
    "for r in confusion_mat:\n",
    "    print(r)\n",
    "    \n"
   ]
  },
  {
   "cell_type": "code",
   "execution_count": null,
   "metadata": {},
   "outputs": [],
   "source": []
  },
  {
   "cell_type": "code",
   "execution_count": null,
   "metadata": {},
   "outputs": [],
   "source": []
  }
 ],
 "metadata": {
  "kernelspec": {
   "display_name": "Python 3",
   "language": "python",
   "name": "python3"
  },
  "language_info": {
   "codemirror_mode": {
    "name": "ipython",
    "version": 3
   },
   "file_extension": ".py",
   "mimetype": "text/x-python",
   "name": "python",
   "nbconvert_exporter": "python",
   "pygments_lexer": "ipython3",
   "version": "3.7.3"
  }
 },
 "nbformat": 4,
 "nbformat_minor": 2
}
